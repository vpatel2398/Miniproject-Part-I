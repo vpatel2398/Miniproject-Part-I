{
 "cells": [
  {
   "attachments": {},
   "cell_type": "markdown",
   "id": "f35ff72d",
   "metadata": {},
   "source": [
    "## Import Libraries"
   ]
  },
  {
   "cell_type": "code",
   "execution_count": null,
   "id": "c925a44f",
   "metadata": {},
   "outputs": [],
   "source": [
    "import matplotlib.pyplot as plt\n",
    "import plotly.graph_objects as go\n",
    "import numpy as np\n",
    "from IPython.display import display, Markdown, Latex, Image\n",
    "import pandas as pd\n",
    "\n"
   ]
  },
  {
   "attachments": {},
   "cell_type": "markdown",
   "id": "8f856930",
   "metadata": {},
   "source": [
    "## We are going to load the image first and then will display the image "
   ]
  },
  {
   "cell_type": "code",
   "execution_count": null,
   "id": "38fb8b30",
   "metadata": {},
   "outputs": [],
   "source": [
    "\n",
    "# Load the image\n",
    "image_path = 'image.jpeg'\n",
    "image = plt.imread(image_path)\n",
    "\n",
    "# Display the image using Matplotlib\n",
    "plt.imshow(image)\n",
    "plt.axis('off')\n",
    "plt.title('Image')\n",
    "plt.show()\n"
   ]
  },
  {
   "attachments": {},
   "cell_type": "markdown",
   "id": "16ddb961",
   "metadata": {},
   "source": [
    "## Creating table of pixel value and its frequency of an image above\n",
    "       \n",
    "| Pixel value | Frequency |\n",
    "|-------------|-----------|\n",
    "| Value 1     |  Value 2  | \n",
    "| Value 4     |  Value 5  | \n",
    "| Value 7     |  Value 8  |"
   ]
  },
  {
   "cell_type": "code",
   "execution_count": null,
   "metadata": {},
   "outputs": [],
   "source": [
    "# get the frequency of the pixel\n",
    "pixel_values, counts = np.unique(image, return_counts=True) \n",
    "\n",
    "# Create a table using Plotly\n",
    "table = go.Table(\n",
    "    header=dict(values=['Pixel Value', 'Frequency'], fill_color='lightskyblue'),\n",
    "    cells=dict(values=[pixel_values, counts])\n",
    ")\n",
    "\n",
    "layout = go.Layout(\n",
    "    title='Pixel Frequency Table',\n",
    "    width=500\n",
    ")\n",
    "\n",
    "fig = go.Figure(data=[table], layout=layout)\n",
    "\n",
    "fig.show()"
   ]
  },
  {
   "attachments": {},
   "cell_type": "markdown",
   "id": "91432326",
   "metadata": {},
   "source": [
    "## Histogram of the image using matplotlib & Heatmap of the image using plotly\n",
    "    - convert the image to grayscale\n",
    "    - get the histogram to analyze the pixel intensity\n",
    "    - normalize the pixel value between 0 and 1\n",
    "    - create the layout of heatmap"
   ]
  },
  {
   "cell_type": "code",
   "execution_count": null,
   "id": "786034fd",
   "metadata": {},
   "outputs": [],
   "source": [
    "# Convert the image to grayscale\n",
    "grayscale_image = np.mean(image, axis=2)\n",
    "\n",
    "# Create a histogram of pixel intensities using Matplotlib\n",
    "histogram, bins = np.histogram(grayscale_image.flatten(), bins=256, range=[0, 256])"
   ]
  },
  {
   "cell_type": "code",
   "execution_count": null,
   "id": "a80589a0",
   "metadata": {},
   "outputs": [],
   "source": [
    "plt.hist(grayscale_image.ravel(), bins)"
   ]
  }
 ],
 "metadata": {
  "kernelspec": {
   "display_name": "Python 3 (ipykernel)",
   "language": "python",
   "name": "python3"
  },
  "language_info": {
   "codemirror_mode": {
    "name": "ipython",
    "version": 3
   },
   "file_extension": ".py",
   "mimetype": "text/x-python",
   "name": "python",
   "nbconvert_exporter": "python",
   "pygments_lexer": "ipython3",
   "version": "3.11.2"
  }
 },
 "nbformat": 4,
 "nbformat_minor": 5
}
